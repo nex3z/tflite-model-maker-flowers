{
  "nbformat": 4,
  "nbformat_minor": 0,
  "metadata": {
    "colab": {
      "name": "train.ipynb",
      "provenance": [],
      "collapsed_sections": []
    },
    "kernelspec": {
      "name": "python3",
      "display_name": "Python 3"
    },
    "accelerator": "GPU"
  },
  "cells": [
    {
      "cell_type": "code",
      "metadata": {
        "id": "Sx37JJdSchUT",
        "colab_type": "code",
        "colab": {}
      },
      "source": [
        "# !pip install -q tflite-model-maker"
      ],
      "execution_count": null,
      "outputs": []
    },
    {
      "cell_type": "code",
      "metadata": {
        "id": "0WSJW-CPcmdY",
        "colab_type": "code",
        "colab": {}
      },
      "source": [
        "import numpy as np\n",
        "import tensorflow as tf\n",
        "import matplotlib.pyplot as plt\n",
        "from tflite_model_maker import ImageClassifierDataLoader, image_classifier, configs, model_spec"
      ],
      "execution_count": null,
      "outputs": []
    },
    {
      "cell_type": "code",
      "metadata": {
        "id": "vyKGOPZ_jyQd",
        "colab_type": "code",
        "colab": {}
      },
      "source": [
        "DATA_URL = 'https://storage.googleapis.com/download.tensorflow.org/example_images/flower_photos.tgz'\n",
        "EXPORT_DIR = './tflite_model'"
      ],
      "execution_count": null,
      "outputs": []
    },
    {
      "cell_type": "code",
      "metadata": {
        "id": "FReWSfu8dAKY",
        "colab_type": "code",
        "colab": {}
      },
      "source": [
        "image_path = tf.keras.utils.get_file('flower_photos', DATA_URL, untar=True)"
      ],
      "execution_count": null,
      "outputs": []
    },
    {
      "cell_type": "code",
      "metadata": {
        "id": "CYv56aM0dN5x",
        "colab_type": "code",
        "colab": {}
      },
      "source": [
        "data = ImageClassifierDataLoader.from_folder(image_path)\n",
        "train_data, val_data = data.split(0.9)"
      ],
      "execution_count": null,
      "outputs": []
    },
    {
      "cell_type": "code",
      "metadata": {
        "id": "nyeMBjBxdVRW",
        "colab_type": "code",
        "colab": {}
      },
      "source": [
        "model = image_classifier.create(\n",
        "    train_data,\n",
        "    validation_data=val_data,\n",
        "    model_spec=model_spec.efficientnet_lite0_spec,\n",
        "    batch_size=32,\n",
        "    epochs=10,\n",
        ")"
      ],
      "execution_count": null,
      "outputs": []
    },
    {
      "cell_type": "code",
      "metadata": {
        "id": "R1Env4Ys89ko",
        "colab_type": "code",
        "colab": {}
      },
      "source": [
        "model.export(export_dir=EXPORT_DIR)"
      ],
      "execution_count": null,
      "outputs": []
    },
    {
      "cell_type": "code",
      "metadata": {
        "id": "PSeWFsVKjFwH",
        "colab_type": "code",
        "colab": {}
      },
      "source": [
        "model.export(\n",
        "    export_dir=EXPORT_DIR, \n",
        "    tflite_filename='model_dynamic.tflite', \n",
        "    quantization_config=configs.QuantizationConfig.create_dynamic_range_quantization()\n",
        ")"
      ],
      "execution_count": null,
      "outputs": []
    },
    {
      "cell_type": "code",
      "metadata": {
        "id": "Q_Ln-NPNif-F",
        "colab_type": "code",
        "colab": {}
      },
      "source": [
        "model.export(\n",
        "    export_dir=EXPORT_DIR, \n",
        "    tflite_filename='model_float16.tflite', \n",
        "    quantization_config=configs.QuantizationConfig.create_float16_quantization()\n",
        ")"
      ],
      "execution_count": null,
      "outputs": []
    },
    {
      "cell_type": "code",
      "metadata": {
        "id": "PtBxoj92iV3h",
        "colab_type": "code",
        "colab": {}
      },
      "source": [
        "model.export(\n",
        "    export_dir=EXPORT_DIR, \n",
        "    tflite_filename='model_int8.tflite', \n",
        "    quantization_config=configs.QuantizationConfig.create_full_integer_quantization(\n",
        "        representative_data=val_data, is_integer_only=True)\n",
        ")"
      ],
      "execution_count": null,
      "outputs": []
    }
  ]
}